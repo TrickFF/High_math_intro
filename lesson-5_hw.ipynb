{
 "cells": [
  {
   "cell_type": "markdown",
   "metadata": {},
   "source": [
    "### Домашняя работа по теме “Элементы теории вероятностей”"
   ]
  },
  {
   "cell_type": "code",
   "execution_count": 1,
   "metadata": {},
   "outputs": [],
   "source": [
    "import random\n",
    "import pandas as pd\n",
    "import numpy as np\n",
    "from math import factorial\n",
    "import matplotlib.pyplot as plt\n",
    "import matplotlib.mlab as mlab\n",
    "\n",
    "%matplotlib inline"
   ]
  },
  {
   "cell_type": "markdown",
   "metadata": {},
   "source": [
    "##### Задание 1"
   ]
  },
  {
   "cell_type": "markdown",
   "metadata": {},
   "source": [
    "Напишите код, моделирующий выпадение поля в рулетке (с учетом поля зеро)"
   ]
  },
  {
   "cell_type": "markdown",
   "metadata": {},
   "source": [
    "Колесо европейской рулетки разбито на 37 секторов: 36 пронумерованных от 1 до 36 ячеек и плюс «зеро».\n",
    "\n",
    "Порядок чисел\n",
    "0-32-15-19-4-21-2-25-17-34-6-27-13-36-11-30-8-23-10-5-24-16-33-1-20-14-31-9-22-18-29-7-28-12-35-3-26"
   ]
  },
  {
   "cell_type": "code",
   "execution_count": 62,
   "metadata": {},
   "outputs": [
    {
     "name": "stdout",
     "output_type": "stream",
     "text": [
      "23\n",
      "32\n"
     ]
    }
   ],
   "source": [
    "# Вариант 1\n",
    "roulette = [0, 32, 15, 19, 4, 21, 2, 25, 17, 34, 6, 27, 13, 36, 11, 30, 8, 23, 10, 5, 24, 16, 33, 1, 20, 14, 31, 9, 22, 18, 29, 7, 28, 12, 35, 3, 26]\n",
    "\n",
    "index = random.randint(0, len(roulette) - 1)\n",
    "print(roulette[index])\n",
    "\n",
    "# Вариант 2\n",
    "roulette_num = random.randint(0, 36)\n",
    "print(roulette_num)"
   ]
  },
  {
   "cell_type": "markdown",
   "metadata": {},
   "source": [
    "##### Задание 2"
   ]
  },
  {
   "cell_type": "markdown",
   "metadata": {},
   "source": [
    "1. Напишите код, проверяющий любую из теорем сложения или умножения вероятности на примере рулетки или подбрасывания монетки."
   ]
  },
  {
   "cell_type": "code",
   "execution_count": 63,
   "metadata": {},
   "outputs": [
    {
     "data": {
      "text/plain": [
       "(0.02702702702702703, 0.02702702702702703, 0.0007304601899196495)"
      ]
     },
     "execution_count": 63,
     "metadata": {},
     "output_type": "execute_result"
    }
   ],
   "source": [
    "# Вероятность дважды угадать число на рулетке. Это независимые несовместные события.\n",
    "# Вероятность наступления события при кручении рулетки каждый раз одинакова.\n",
    "A = 1 / len(roulette)\n",
    "B = 1 / len(roulette)\n",
    "\n",
    "AB = A * B\n",
    "A, B, AB"
   ]
  },
  {
   "cell_type": "markdown",
   "metadata": {},
   "source": [
    "2. Сгенерируйте десять выборок случайных чисел х0, …, х9. \n",
    "и постройте гистограмму распределения случайной суммы  +х0+ …+ х 9."
   ]
  },
  {
   "cell_type": "code",
   "execution_count": 67,
   "metadata": {},
   "outputs": [
    {
     "name": "stdout",
     "output_type": "stream",
     "text": [
      "[1 1 1 7 0 5 2 9 6 9]\n",
      "[9 9 3 8 5 4 9 6 2 4]\n",
      "[7 5 9 0 4 1 1 6 8 3]\n",
      "[8 8 8 3 5 7 9 2 5 4]\n",
      "[5 5 9 9 1 9 8 0 0 6]\n",
      "[3 4 3 5 1 6 6 8 4 1]\n",
      "[9 1 7 4 6 4 6 3 1 1]\n",
      "[9 1 1 7 3 9 3 4 4 8]\n",
      "[3 4 9 9 2 0 1 7 1 1]\n",
      "[7 9 1 2 2 7 6 8 5 5]\n",
      "[61 47 51 54 29 52 51 53 36 42]\n"
     ]
    },
    {
     "data": {
      "image/png": "[encoded data removed]",
      "text/plain": [
       "<Figure size 432x288 with 1 Axes>"
      ]
     },
     "metadata": {
      "needs_background": "light"
     },
     "output_type": "display_data"
    }
   ],
   "source": [
    "n = 10\n",
    "sum_lines = [0] * n\n",
    "\n",
    "lists = [np.random.randint(0, 10, n) for i in range(10)]\n",
    "\n",
    "for line in lists:\n",
    "    print(line)\n",
    "    sum_lines += line\n",
    "\n",
    "print(sum_lines)\n",
    "\n",
    "num_bins = 6\n",
    "n, bins, patches = plt.hist(sum_lines, num_bins)\n",
    "plt.xlabel('summa')\n",
    "plt.ylabel('Probability')\n",
    "plt.title('Histogram')\n",
    "\n",
    "plt.show()"
   ]
  },
  {
   "cell_type": "markdown",
   "metadata": {},
   "source": [
    "##### Задание 3"
   ]
  },
  {
   "cell_type": "markdown",
   "metadata": {},
   "source": [
    "1. Дополните код Монте-Карло последовательности независимых испытаний расчетом соответствующих вероятностей (через биномиальное распределение) \n",
    "и сравните результаты."
   ]
  },
  {
   "cell_type": "code",
   "execution_count": 68,
   "metadata": {},
   "outputs": [
    {
     "name": "stdout",
     "output_type": "stream",
     "text": [
      "a выпало 38 раз из 100. Относительная вероятность - 0.38\n",
      "b выпало 31 раз из 100. Относительная вероятность - 0.31\n",
      "c выпало 31 раз из 100. Относительная вероятность - 0.31\n",
      "Общая вероятность - 1.0\n"
     ]
    }
   ],
   "source": [
    "start=0\n",
    "end=100\n",
    "tests_count = 100\n",
    "\n",
    "# Счетчики наступления событий\n",
    "a = 0\n",
    "b = 0\n",
    "c = 0\n",
    "\n",
    "for i in range(tests_count):\n",
    "    spam = random.randint(start, end)\n",
    "    if spam < (end - start) / 3:\n",
    "        a += 1\n",
    "    elif spam >= (end - start) / 3 and spam < (end - start) / 3 * 2:\n",
    "        b += 1\n",
    "    else:\n",
    "        c += 1\n",
    "\n",
    "\n",
    "print(f'a выпало {a} раз из {tests_count}. Относительная вероятность - {round(a / tests_count, 3)}')\n",
    "print(f'b выпало {b} раз из {tests_count}. Относительная вероятность - {round(b / tests_count, 3)}')\n",
    "print(f'c выпало {c} раз из {tests_count}. Относительная вероятность - {round(c / tests_count, 3)}')\n",
    "print(f'Общая вероятность - {round(a / tests_count + b / tests_count + c / tests_count, 3)}')"
   ]
  },
  {
   "cell_type": "markdown",
   "metadata": {},
   "source": [
    "2. Повторите расчеты биномиальных коэффициентов и вероятностей k успехов в последовательности из n независимых испытаний, взяв другие значения n и k."
   ]
  },
  {
   "cell_type": "code",
   "execution_count": 69,
   "metadata": {},
   "outputs": [
    {
     "name": "stdout",
     "output_type": "stream",
     "text": [
      "3 карты из колоды в 52 карты можно вытащить 22100 способами\n"
     ]
    }
   ],
   "source": [
    "# Сколькими способами мажно вытащить  k карт из колоды в n карт\n",
    "# Это сочетания, т.к. порядок карт нам не важен\n",
    "n = 52\n",
    "k = 3\n",
    "\n",
    "def combinations(n, k):\n",
    "    return int(factorial(n) / (factorial(k) * factorial(n - k)))\n",
    "\n",
    "result = combinations(n, k)\n",
    "print(f'{k} карты из колоды в {n} карты можно вытащить {result} способами')"
   ]
  },
  {
   "cell_type": "markdown",
   "metadata": {},
   "source": [
    "##### Задание 4"
   ]
  },
  {
   "cell_type": "markdown",
   "metadata": {},
   "source": [
    "(не обязательно, но желательно) Из урока по комбинаторике повторите расчеты, сгенерировав возможные варианты перестановок для других значений n и k"
   ]
  },
  {
   "cell_type": "code",
   "execution_count": 81,
   "metadata": {},
   "outputs": [
    {
     "name": "stdout",
     "output_type": "stream",
     "text": [
      "Для значения x[i] = 2\n",
      "В ходе 100 испытаний получили 35 успехов. Относительная вероятность: 0.35\n",
      "Вероятность по формуле Бернулли: 0.000189\n",
      "****************************************\n",
      "Для значения x[i] <= 2\n",
      "В ходе 100 испытаний получили 71 успехов. Относительная вероятность: 0.71\n",
      "Вероятность по формуле Бернулли: 0.006343\n"
     ]
    }
   ],
   "source": [
    "k, n = 0, 100\n",
    "a = np.random.randint(0, 2, n)\n",
    "b = np.random.randint(0, 2, n)\n",
    "c = np.random.randint(0, 2, n)\n",
    "d = np.random.randint(0, 2, n)\n",
    "\n",
    "x = a + b + c + d\n",
    "# Возможные исходы события после сложения масивов - 0, 1, 2, 3, 4, т.е. 5 возможных исходов.\n",
    "# Вероятность наступления каждого из них = 1/5 = 0.2\n",
    "\n",
    "# Для ситуации, когда нас интересует значение x[i] = 2\n",
    "p = 1 / 5\n",
    "q = 1 - p\n",
    "\n",
    "for i in range(0, n):\n",
    "    if x[i] == 2:\n",
    "        k = k + 1\n",
    "        \n",
    "print('Для значения x[i] = 2') \n",
    "print(f'В ходе {n} испытаний получили {k} успехов. Относительная вероятность: {k / n}')\n",
    "print(f'Вероятность по формуле Бернулли: {round(combinations(n, k) * (p**k)*(q**(n-k)), 6)}')\n",
    "\n",
    "\n",
    "# Для ситуации, когда нас интересует значение x[i] <= 2\n",
    "# В этом случае нас устроит, если x[i] будет = 0, 1 или 2. Это независимые несовместные события,\n",
    "# поэтому мы складываем их вероятности: 1/5 + 1/5 + 1/5 = 3/5\n",
    "k = 0\n",
    "p = 3 / 5\n",
    "q = 1 - p\n",
    "\n",
    "for i in range(0, n):\n",
    "    if x[i] <= 2:\n",
    "        k = k + 1\n",
    "\n",
    "print(f'{\"*\" * 40}')\n",
    "print('Для значения x[i] <= 2')\n",
    "print(f'В ходе {n} испытаний получили {k} успехов. Относительная вероятность: {k / n}')\n",
    "print(f'Вероятность по формуле Бернулли: {round(combinations(n, k) * (p**k)*(q**(n-k)), 6)}')"
   ]
  },
  {
   "cell_type": "markdown",
   "metadata": {},
   "source": [
    "Вероятность по формуле Бернулли такая низкая т.к. она отражает вероятность наступления конкретного количества исходов при заданном количестве испытаний и вероятности наступления благоприятного события"
   ]
  },
  {
   "cell_type": "markdown",
   "metadata": {},
   "source": [
    "##### Задание 5"
   ]
  },
  {
   "cell_type": "markdown",
   "metadata": {},
   "source": [
    "(не обязательно) Дополните код расчетом коэффициента корреляции x и y по формуле"
   ]
  },
  {
   "cell_type": "code",
   "execution_count": 519,
   "metadata": {},
   "outputs": [
    {
     "name": "stdout",
     "output_type": "stream",
     "text": [
      "Коэффициенты: a = 0.729679 и b = 0.132423\n",
      "Коэффициент кореляции r = 0.917036\n"
     ]
    },
    {
     "name": "stderr",
     "output_type": "stream",
     "text": [
      "<ipython-input-519-6ef0667d5508>:19: FutureWarning: `rcond` parameter will change to the default of machine precision times ``max(M, N)`` where M and N are the input matrix dimensions.\n",
      "To use the future default and silence this warning we advise to pass `rcond=None`, to keep using the old, explicitly pass `rcond=-1`.\n",
      "  a1, b1 = np.linalg.lstsq(A, y)[0]\n"
     ]
    },
    {
     "data": {
      "image/png": "[encoded data removed]",
      "text/plain": [
       "<Figure size 432x288 with 1 Axes>"
      ]
     },
     "metadata": {
      "needs_background": "light"
     },
     "output_type": "display_data"
    }
   ],
   "source": [
    "n = 100\n",
    "r = 0.7\n",
    "x = np.random.rand(n)\n",
    "y = r*x + (1 - r)*np.random.rand(n)\n",
    "plt.plot(x, y, 'o')\n",
    "plt.xlabel('x')\n",
    "plt.ylabel('y')\n",
    "plt.grid(True)\n",
    "\n",
    "a = (np.sum(x)*np.sum(y) - n*np.sum(x*y))/(np.sum(x)*np.sum(x) - n*np.sum(x*x))\n",
    "b = (np.sum(y) - a*np.sum(x))/n\n",
    "\n",
    "# Коэффициент корреляции R\n",
    "x_m = x.mean()\n",
    "y_m = y.mean()\n",
    "r1 = np.sum((x - x_m) * (y - y_m)) / np.sqrt(np.sum((x - x_m) ** 2) * np.sum((y - y_m) ** 2))\n",
    "\n",
    "A = np.vstack([x, np.ones(len(x))]).T\n",
    "a1, b1 = np.linalg.lstsq(A, y)[0]\n",
    "\n",
    "print(f'Коэффициенты: a = {round(a, 6)} и b = {round(b, 6)}')\n",
    "# print(a1, b1)\n",
    "print(f'Коэффициент кореляции r = {round(r1, 6)}')\n",
    "\n",
    "plt.plot([0, 1], [b, a + b])\n",
    "plt.show()"
   ]
  },
  {
   "cell_type": "code",
   "execution_count": null,
   "metadata": {},
   "outputs": [],
   "source": []
  }
 ],
 "metadata": {
  "kernelspec": {
   "display_name": "Python 3",
   "language": "python",
   "name": "python3"
  },
  "language_info": {
   "codemirror_mode": {
    "name": "ipython",
    "version": 3
   },
   "file_extension": ".py",
   "mimetype": "text/x-python",
   "name": "python",
   "nbconvert_exporter": "python",
   "pygments_lexer": "ipython3",
   "version": "3.8.5"
  }
 },
 "nbformat": 4,
 "nbformat_minor": 4
}
